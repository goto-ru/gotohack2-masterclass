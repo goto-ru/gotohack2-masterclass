{
 "cells": [
  {
   "cell_type": "markdown",
   "metadata": {},
   "source": [
    "# Как сделать самый крутой проект на GitHub\n",
    "\n",
    "---\n",
    "\n",
    "Эта тетрадка научит тебя использовать pandas, numpy, строить графики в matplotlib и тому, как сделать самый крутой проект на GitHub.\n",
    "\n",
    "Начнём!\n",
    "\n",
    "\n",
    "* Клетки можно просто выполнять (выделить и ctrl+enter или shift+enter - чтобы сразу выделить следующую)\n",
    "* По надобности их можно создавать (\"плюсик\" в панели наверху)\n",
    "* В некоторых клетках нужно дописать код, что именно - пишется в комментариях рядом"
   ]
  },
  {
   "cell_type": "code",
   "execution_count": 1,
   "metadata": {
    "collapsed": true
   },
   "outputs": [],
   "source": [
    "#подключим модуль Pandas. Он нужен, чтобы работать с данными\n",
    "import pandas\n",
    "\n",
    "#считаем данные\n",
    "data = pandas.DataFrame.from_csv(\"git.csv\")"
   ]
  },
  {
   "cell_type": "code",
   "execution_count": 2,
   "metadata": {
    "collapsed": false
   },
   "outputs": [
    {
     "data": {
      "text/html": [
       "<div>\n",
       "<table border=\"1\" class=\"dataframe\">\n",
       "  <thead>\n",
       "    <tr style=\"text-align: right;\">\n",
       "      <th></th>\n",
       "      <th>name</th>\n",
       "      <th>main_language</th>\n",
       "      <th>reated_at</th>\n",
       "      <th>forked_from</th>\n",
       "      <th>deleted</th>\n",
       "      <th>watchers</th>\n",
       "      <th>milestones</th>\n",
       "      <th>num_labels</th>\n",
       "      <th>pull_request</th>\n",
       "      <th>commits</th>\n",
       "      <th>stars</th>\n",
       "    </tr>\n",
       "    <tr>\n",
       "      <th>id</th>\n",
       "      <th></th>\n",
       "      <th></th>\n",
       "      <th></th>\n",
       "      <th></th>\n",
       "      <th></th>\n",
       "      <th></th>\n",
       "      <th></th>\n",
       "      <th></th>\n",
       "      <th></th>\n",
       "      <th></th>\n",
       "      <th></th>\n",
       "    </tr>\n",
       "  </thead>\n",
       "  <tbody>\n",
       "    <tr>\n",
       "      <th>2</th>\n",
       "      <td>ruote-kit</td>\n",
       "      <td>Ruby</td>\n",
       "      <td>2009-06-10 20:32:21</td>\n",
       "      <td>NaN</td>\n",
       "      <td>0</td>\n",
       "      <td>1</td>\n",
       "      <td>221</td>\n",
       "      <td>18</td>\n",
       "      <td>0</td>\n",
       "      <td>172</td>\n",
       "      <td>697</td>\n",
       "    </tr>\n",
       "    <tr>\n",
       "      <th>4</th>\n",
       "      <td>basemap</td>\n",
       "      <td>C++</td>\n",
       "      <td>2012-06-14 14:14:56</td>\n",
       "      <td>3.0</td>\n",
       "      <td>1</td>\n",
       "      <td>1</td>\n",
       "      <td>31</td>\n",
       "      <td>22</td>\n",
       "      <td>0</td>\n",
       "      <td>9</td>\n",
       "      <td>99</td>\n",
       "    </tr>\n",
       "    <tr>\n",
       "      <th>6</th>\n",
       "      <td>cocos2d-x</td>\n",
       "      <td>C++</td>\n",
       "      <td>2010-11-18 23:17:00</td>\n",
       "      <td>NaN</td>\n",
       "      <td>0</td>\n",
       "      <td>1</td>\n",
       "      <td>1</td>\n",
       "      <td>32</td>\n",
       "      <td>0</td>\n",
       "      <td>0</td>\n",
       "      <td>85</td>\n",
       "    </tr>\n",
       "    <tr>\n",
       "      <th>8</th>\n",
       "      <td>ncs_navigator_core</td>\n",
       "      <td>Ruby</td>\n",
       "      <td>2012-04-19 21:45:52</td>\n",
       "      <td>NaN</td>\n",
       "      <td>0</td>\n",
       "      <td>1</td>\n",
       "      <td>1</td>\n",
       "      <td>2</td>\n",
       "      <td>0</td>\n",
       "      <td>1</td>\n",
       "      <td>87</td>\n",
       "    </tr>\n",
       "    <tr>\n",
       "      <th>10</th>\n",
       "      <td>llvm</td>\n",
       "      <td>C++</td>\n",
       "      <td>2011-02-01 09:11:48</td>\n",
       "      <td>NaN</td>\n",
       "      <td>0</td>\n",
       "      <td>1</td>\n",
       "      <td>74</td>\n",
       "      <td>6</td>\n",
       "      <td>0</td>\n",
       "      <td>69</td>\n",
       "      <td>522</td>\n",
       "    </tr>\n",
       "  </tbody>\n",
       "</table>\n",
       "</div>"
      ],
      "text/plain": [
       "                  name main_language            reated_at  forked_from  \\\n",
       "id                                                                       \n",
       "2            ruote-kit          Ruby  2009-06-10 20:32:21          NaN   \n",
       "4              basemap           C++  2012-06-14 14:14:56          3.0   \n",
       "6            cocos2d-x           C++  2010-11-18 23:17:00          NaN   \n",
       "8   ncs_navigator_core          Ruby  2012-04-19 21:45:52          NaN   \n",
       "10                llvm           C++  2011-02-01 09:11:48          NaN   \n",
       "\n",
       "    deleted  watchers  milestones  num_labels  pull_request  commits  stars  \n",
       "id                                                                           \n",
       "2         0         1         221          18             0      172    697  \n",
       "4         1         1          31          22             0        9     99  \n",
       "6         0         1           1          32             0        0     85  \n",
       "8         0         1           1           2             0        1     87  \n",
       "10        0         1          74           6             0       69    522  "
      ]
     },
     "execution_count": 2,
     "metadata": {},
     "output_type": "execute_result"
    }
   ],
   "source": [
    "#Данные - таблица, двумерный массив\n",
    "data[:5]\n",
    "\n",
    "# Так же можно использовать\n",
    "data.head()"
   ]
  },
  {
   "cell_type": "markdown",
   "metadata": {},
   "source": [
    "## Расшифровка колонок\n",
    "* name - название проекта\n",
    "* main_language - язык на котором написан проект\n",
    "* reated_at - когда был создан проект (буква 'c' потерялась)\n",
    "* forked_from - откуда был склонирован проект\n",
    "* deleted - удалён ли проект\n",
    "* watchers - количество наблюдающих за проектом\n",
    "* milestones - количество групп issues [кляк](https://guides.github.com/features/issues/)\n",
    "* num_labels - количество меток в issues\n",
    "* pull_request - количество pull реквестов\n",
    "* commits - количество коммитов\n",
    "* stars - количество звезд за проект\n",
    "\n",
    "\n",
    "В некоторых колонках встречается NaN - значит, что у данного репозитория данная колонка неизвестна (квест - найти их глазами в данных выше)"
   ]
  },
  {
   "cell_type": "code",
   "execution_count": 3,
   "metadata": {
    "collapsed": false
   },
   "outputs": [
    {
     "name": "stdout",
     "output_type": "stream",
     "text": [
      "len(data) =  9956\n",
      "data.shape =  (9956, 11)\n"
     ]
    }
   ],
   "source": [
    "#размеры таблицы\n",
    "print(\"len(data) = \", len(data))\n",
    "print(\"data.shape = \",data.shape)"
   ]
  },
  {
   "cell_type": "code",
   "execution_count": 4,
   "metadata": {
    "collapsed": false
   },
   "outputs": [
    {
     "name": "stdout",
     "output_type": "stream",
     "text": [
      "name                            llvm\n",
      "main_language                    C++\n",
      "reated_at        2011-02-01 09:11:48\n",
      "forked_from                      NaN\n",
      "deleted                            0\n",
      "watchers                           1\n",
      "milestones                        74\n",
      "num_labels                         6\n",
      "pull_request                       0\n",
      "commits                           69\n",
      "stars                            522\n",
      "Name: 10, dtype: object\n"
     ]
    }
   ],
   "source": [
    "#вот так можно получить четвёртую строку таблицы, считая с нуля\n",
    "print(data.iloc[4])"
   ]
  },
  {
   "cell_type": "code",
   "execution_count": 5,
   "metadata": {
    "collapsed": false
   },
   "outputs": [
    {
     "name": "stdout",
     "output_type": "stream",
     "text": [
      "                  name main_language            reated_at  forked_from  \\\n",
      "id                                                                       \n",
      "2            ruote-kit          Ruby  2009-06-10 20:32:21          NaN   \n",
      "4              basemap           C++  2012-06-14 14:14:56          3.0   \n",
      "6            cocos2d-x           C++  2010-11-18 23:17:00          NaN   \n",
      "8   ncs_navigator_core          Ruby  2012-04-19 21:45:52          NaN   \n",
      "10                llvm           C++  2011-02-01 09:11:48          NaN   \n",
      "\n",
      "    deleted  watchers  milestones  num_labels  pull_request  commits  stars  \n",
      "id                                                                           \n",
      "2         0         1         221          18             0      172    697  \n",
      "4         1         1          31          22             0        9     99  \n",
      "6         0         1           1          32             0        0     85  \n",
      "8         0         1           1           2             0        1     87  \n",
      "10        0         1          74           6             0       69    522  \n"
     ]
    }
   ],
   "source": [
    "#первые 5 строк\n",
    "print(data[0:5])"
   ]
  },
  {
   "cell_type": "code",
   "execution_count": 6,
   "metadata": {
    "collapsed": false
   },
   "outputs": [
    {
     "name": "stdout",
     "output_type": "stream",
     "text": [
      "id\n",
      "2                                                ruote-kit\n",
      "4                                                  basemap\n",
      "6                                                cocos2d-x\n",
      "8                                       ncs_navigator_core\n",
      "10                                                    llvm\n",
      "12                                  heroku-buildpack-scala\n",
      "14                                                   drash\n",
      "16                                                thor-cms\n",
      "18                                               gameshake\n",
      "20                                                git-lava\n",
      "23                                               Markup.js\n",
      "25       Large-Scale-Forward-Regression-using-a-partiti...\n",
      "27                                         scala-vs-erlang\n",
      "29                                                  opencv\n",
      "31                                           webgl-lessons\n",
      "33                                                  Glomes\n",
      "35                                            yii-EasyAPNs\n",
      "37                                              angular.js\n",
      "39                                              OpenCV-iOS\n",
      "41                                     redmine_git_hosting\n",
      "43                                           iptablesbuild\n",
      "45                                                dotfiles\n",
      "47                                                dotfiles\n",
      "49                                       SyntaxHighlighter\n",
      "52                                   jquery-endless-scroll\n",
      "54                                                brochure\n",
      "61                                          protobuf-cmake\n",
      "63                                                 unisubs\n",
      "65                                          protobuf-cmake\n",
      "67                                                    loso\n",
      "                               ...                        \n",
      "21283                       android_device_motorola_jordan\n",
      "21285                                     Bukkit-Commander\n",
      "21287                                              audited\n",
      "21289                                           dropwizard\n",
      "21291                                     aws-sdk-for-ruby\n",
      "21293                                            boxers.js\n",
      "21295                    android_device_moto_jordan-common\n",
      "21297                                               iSENSE\n",
      "21299                                    sfFormExtraPlugin\n",
      "21302                                           jsonschema\n",
      "21304                                           jsonschema\n",
      "21306                            android_device_moto_mb526\n",
      "21308                                            node-LDAP\n",
      "21310                                          BackboneKit\n",
      "21312                                       cas-shiro-demo\n",
      "21314                                      spacegameengine\n",
      "21316                                    openbel-framework\n",
      "21318                                                 abba\n",
      "21320                                              crudite\n",
      "21325                                            easyzip4j\n",
      "21327                                                 JSUS\n",
      "21329                                           stuntrally\n",
      "21332                                         yii-template\n",
      "21334                                           stuntrally\n",
      "21336                                         yii-template\n",
      "21338                                          js-traverse\n",
      "21340                                             bytelife\n",
      "21342                                          gridster.js\n",
      "21344                                             narayana\n",
      "21346                                             myarusel\n",
      "Name: name, dtype: object\n"
     ]
    }
   ],
   "source": [
    "#так можно получить первый столбец (считая с нуля)\n",
    "#print(data.icol(1))\n",
    "#но проще - вот так:\n",
    "print(data[\"name\"])\n",
    "#или даже так: data.name"
   ]
  },
  {
   "cell_type": "code",
   "execution_count": 7,
   "metadata": {
    "collapsed": false
   },
   "outputs": [
    {
     "data": {
      "text/html": [
       "<div>\n",
       "<table border=\"1\" class=\"dataframe\">\n",
       "  <thead>\n",
       "    <tr style=\"text-align: right;\">\n",
       "      <th></th>\n",
       "      <th>name</th>\n",
       "      <th>stars</th>\n",
       "    </tr>\n",
       "    <tr>\n",
       "      <th>id</th>\n",
       "      <th></th>\n",
       "      <th></th>\n",
       "    </tr>\n",
       "  </thead>\n",
       "  <tbody>\n",
       "    <tr>\n",
       "      <th>12</th>\n",
       "      <td>heroku-buildpack-scala</td>\n",
       "      <td>54</td>\n",
       "    </tr>\n",
       "    <tr>\n",
       "      <th>14</th>\n",
       "      <td>drash</td>\n",
       "      <td>9</td>\n",
       "    </tr>\n",
       "    <tr>\n",
       "      <th>16</th>\n",
       "      <td>thor-cms</td>\n",
       "      <td>100</td>\n",
       "    </tr>\n",
       "    <tr>\n",
       "      <th>18</th>\n",
       "      <td>gameshake</td>\n",
       "      <td>9808</td>\n",
       "    </tr>\n",
       "    <tr>\n",
       "      <th>20</th>\n",
       "      <td>git-lava</td>\n",
       "      <td>273</td>\n",
       "    </tr>\n",
       "  </tbody>\n",
       "</table>\n",
       "</div>"
      ],
      "text/plain": [
       "                      name  stars\n",
       "id                               \n",
       "12  heroku-buildpack-scala     54\n",
       "14                   drash      9\n",
       "16                thor-cms    100\n",
       "18               gameshake   9808\n",
       "20                git-lava    273"
      ]
     },
     "execution_count": 7,
     "metadata": {},
     "output_type": "execute_result"
    }
   ],
   "source": [
    "#несколько колонок, несколько строк\n",
    "data[[\"name\",\"stars\"]][5:10]"
   ]
  },
  {
   "cell_type": "markdown",
   "metadata": {},
   "source": [
    "## Теперь сам\n",
    "* выведи данные о 1, 13, 666 и последнем проекте. Какой из них заработал больше всего звёзд?\n",
    "\n",
    "\n",
    "* выведи данные о столбике \"stars\" - колическо звёзд у репозитория.\n",
    "* напиши программу, которая считает, сколько всего проектов, которые не оценены и оценены выше 100 звёзд"
   ]
  },
  {
   "cell_type": "code",
   "execution_count": 8,
   "metadata": {
    "collapsed": true
   },
   "outputs": [],
   "source": [
    "#<1,13, 666 и последний из проектов>"
   ]
  },
  {
   "cell_type": "code",
   "execution_count": 9,
   "metadata": {
    "collapsed": true
   },
   "outputs": [],
   "source": [
    "#stars"
   ]
  },
  {
   "cell_type": "code",
   "execution_count": 10,
   "metadata": {
    "collapsed": true
   },
   "outputs": [],
   "source": [
    "#программа"
   ]
  },
  {
   "cell_type": "markdown",
   "metadata": {},
   "source": [
    "# Numpy и векторные операции"
   ]
  },
  {
   "cell_type": "code",
   "execution_count": 11,
   "metadata": {
    "collapsed": false
   },
   "outputs": [
    {
     "name": "stdout",
     "output_type": "stream",
     "text": [
      "a =  [1 2 3 4 5]\n",
      "b =  [5 4 3 2 1]\n",
      "a+1 = [2 3 4 5 6]\n",
      "a*2 = [ 2  4  6  8 10]\n",
      "a==2 [False  True False False False]\n",
      "a+b = [6 6 6 6 6]\n",
      "a*b = [5 8 9 8 5]\n"
     ]
    }
   ],
   "source": [
    "#загружаем numpy. Это быстрая библиотека для математики\n",
    "import numpy\n",
    "\n",
    "#основная структура данных - массив\n",
    "a = numpy.array([1,2,3,4,5])\n",
    "b = numpy.array([5,4,3,2,1])\n",
    "print(\"a = \",a)\n",
    "print(\"b = \",b)\n",
    "\n",
    "#математические и логические операции считаются для каждого элемента массива\n",
    "print(\"a+1 =\", a+1)\n",
    "print(\"a*2 =\", a*2)\n",
    "print(\"a==2\", a==2)\n",
    "#если в операции участвуют 2 массива, операции считаются для соответствующих пар\n",
    "print(\"a+b =\",a+b)\n",
    "print(\"a*b =\",a*b)"
   ]
  },
  {
   "cell_type": "code",
   "execution_count": 12,
   "metadata": {
    "collapsed": false
   },
   "outputs": [
    {
     "ename": "SyntaxError",
     "evalue": "unexpected EOF while parsing (<ipython-input-12-082655d55c83>, line 6)",
     "output_type": "error",
     "traceback": [
      "\u001b[1;36m  File \u001b[1;32m\"<ipython-input-12-082655d55c83>\"\u001b[1;36m, line \u001b[1;32m6\u001b[0m\n\u001b[1;33m    print(\"Частное разности элементов a и единицы с квадратами b:\", #<твой код> )\u001b[0m\n\u001b[1;37m                                                                                 ^\u001b[0m\n\u001b[1;31mSyntaxError\u001b[0m\u001b[1;31m:\u001b[0m unexpected EOF while parsing\n"
     ]
    }
   ],
   "source": [
    "#а теперь сам\n",
    "print(\"Разность между a и b:\", #<твой код> )\n",
    "print(\"Квадраты элементов b:\", #<твой код> )\n",
    "print(\"Половины элементов массива a:\", #<твой код> )\n",
    "print(\"Половины произведений элементов массивов a и b:\", #<твой код> )\n",
    "print(\"Частное разности элементов a и единицы с квадратами b:\", #<твой код> )"
   ]
  },
  {
   "cell_type": "code",
   "execution_count": 13,
   "metadata": {
    "collapsed": false
   },
   "outputs": [
    {
     "name": "stdout",
     "output_type": "stream",
     "text": [
      "numpy.sum(a) =  15\n",
      "numpy.min(a) =  1\n",
      "numpy.argmin(b) =  4\n",
      "numpy.max(a) =  5\n",
      "numpy.argmax(b) =  0\n",
      "numpy.average(a) =  3.0\n",
      "numpy.unique(['male','male','female','female','male']) =  ['female' 'male']\n"
     ]
    }
   ],
   "source": [
    "#а ещё в numpy есть много функций\n",
    "\n",
    "print(\"numpy.sum(a) = \",numpy.sum(a))\n",
    "print(\"numpy.min(a) = \", numpy.min(a))\n",
    "print(\"numpy.argmin(b) = \", numpy.argmin(b)) #индекс минимального элемента\n",
    "print(\"numpy.max(a) = \", numpy.max(a))\n",
    "print(\"numpy.argmax(b) = \", numpy.argmax(b)) #индекс максимального\n",
    "print(\"numpy.average(a) = \", numpy.average(a))\n",
    "print(\"numpy.unique(['male','male','female','female','male']) = \",numpy.unique(['male','male','female','female','male']))\n",
    "#и ещё много  всего ...\n"
   ]
  },
  {
   "cell_type": "code",
   "execution_count": 14,
   "metadata": {
    "collapsed": false
   },
   "outputs": [
    {
     "name": "stdout",
     "output_type": "stream",
     "text": [
      "5354 количество склонированных проектов\n",
      "4602 не слонированные проекты\n"
     ]
    }
   ],
   "source": [
    "#[это важно для задания] \n",
    "#А вот так можно выделять данные, в которых определённая колонка - не NaN\n",
    "\n",
    "#массив bool - является ли у данного проекта значение в колонки forked_at NaN\n",
    "forked_is_nan = numpy.isnan(data.forked_from) \n",
    "\n",
    "# все проекты, у которых значение в колонки forked_at - не NaN (отдельная таблица)\n",
    "answer = data[numpy.logical_not(forked_is_nan)] \n",
    "\n",
    "print(len(data) - len(answer), \"количество склонированных проектов\")\n",
    "print(len(answer), \"не слонированные проекты\")"
   ]
  },
  {
   "cell_type": "code",
   "execution_count": null,
   "metadata": {
    "collapsed": false
   },
   "outputs": [],
   "source": [
    "# мини-квест:\n",
    "# реши свою предыдущую задачу в 1-2 строчки с использованием numpy\n",
    "#подсказка: если массив состоит из 0 и 1, то \n",
    "#сумма = количестно единичек \n",
    "#среднее значение = вероятность единички\n",
    "print() #<твой код>\n",
    "\n",
    "#найди проект с (минимальным/максимальным) количеством pull request-ов. Сколько у него звёзд? Склонирован ли он?\n",
    "print() #<твой код>\n",
    "\n",
    "#Сколько комитов (commits) было у самого лучшего проекта? Какое его название?\n",
    "print() #<твой код>"
   ]
  },
  {
   "cell_type": "code",
   "execution_count": 15,
   "metadata": {
    "collapsed": false
   },
   "outputs": [
    {
     "name": "stdout",
     "output_type": "stream",
     "text": [
      "логические операции\n",
      "a>2 [False False  True  True  True]\n",
      "numpy.logical_not(a>2) =  [ True  True False False False]\n",
      "numpy.logical_and(a>2,b>2) =  [False False  True False False]\n",
      "numpy.logical_or(a>4,b<3) =  [False False  True  True  True]\n",
      "\n",
      "или проще\n",
      "~(a>2) =  [ True  True False False False]\n",
      "(a>2)&(b>2) =  [False False  True False False]\n",
      "(a>2)|(b<3) =  [False False  True  True  True]\n",
      "\n",
      "\n",
      "Индексация\n",
      "a> 3 = [False False False  True  True]\n",
      "a[a>3] = [4 5]\n",
      "numpy.where(a>3) = (array([3, 4]),)\n",
      "a[numpy.where(a>3)] = [4 5]\n"
     ]
    }
   ],
   "source": [
    "print(\"логические операции\")\n",
    "\n",
    "print(\"a>2\",a>2)\n",
    "print(\"numpy.logical_not(a>2) = \",numpy.logical_not(a>2))\n",
    "print(\"numpy.logical_and(a>2,b>2) = \", numpy.logical_and(a>2,b>2))\n",
    "print(\"numpy.logical_or(a>4,b<3) = \", numpy.logical_or(a>2,b<3))\n",
    "\n",
    "print(\"\\nили проще\")\n",
    "print(\"~(a>2) = \",~(a>2))  #как logical_not\n",
    "print(\"(a>2)&(b>2) = \", (a>2)&(b>2)) #как logical_and\n",
    "print(\"(a>2)|(b<3) = \", (a>2)|(b<3)) #как logical_or\n",
    "\n",
    "\n",
    "print(\"\\n\\nИндексация\")\n",
    "\n",
    "#индексация - выбираем эллементы из массима\n",
    "print(\"a> 3 =\",a>3)\n",
    "print(\"a[a>3] =\", a[a>3])\n",
    "print(\"numpy.where(a>3) =\",numpy.where(a>3)) #где в массиве лежат True (кортеж, в котором лежит массив)\n",
    "print(\"a[numpy.where(a>3)] =\",a[numpy.where(a>3)])"
   ]
  },
  {
   "cell_type": "markdown",
   "metadata": {},
   "source": [
    "# А теперь сам!"
   ]
  },
  {
   "cell_type": "markdown",
   "metadata": {},
   "source": [
    "Квесты\n",
    "* 1) Сколько уникальных названий проекта?\n",
    "* 2) Сколько в среднем звезд получает язык?\n",
    "* 3) В каком языке больше всего pull реквестов? \n",
    "* 4) Все ли репозитории с наблюдателями (watchers) делают pull реквесты?\n",
    "* 5) Есть ли проекты, которые имеют одно название, но разные языки? Сколько их?\n",
    "\n",
    "Бонусные сайд-квесты\n",
    "* 1) Какие бывают языки проектов в наших данных?\n",
    "* 2) У какого языка больше всего звёзд?\n",
    "* 3) У какого языка больше всего удалённых проектов?\n",
    "* 4) В каком проекте меньше всего commits, но больше всего звёзд?\n",
    "* 5) Есть ли проекты, которые называются одинаково? В чём разница между ними?"
   ]
  },
  {
   "cell_type": "code",
   "execution_count": null,
   "metadata": {
    "collapsed": true
   },
   "outputs": [],
   "source": [
    "#твой код\n",
    "\n",
    "#здесь\n",
    "\n",
    "#/твой код"
   ]
  },
  {
   "cell_type": "code",
   "execution_count": null,
   "metadata": {
    "collapsed": true
   },
   "outputs": [],
   "source": [
    "#Выдели в отдельные наборы С++ и Python\n",
    "# за пол отвечает колонка \"Sex\", (\"male\",\"female\")\n",
    "\n",
    "c = #<твой код>\n",
    "python = #<твой код>\n",
    "\n",
    "#Кто с большей вероятностью получит звёзду: проект на c++ или на python?\n",
    "print(\"P(звезда|c++) = \", #<твой код>)\n",
    "print(\"P(звезда|python) = \", #<твой код>)"
   ]
  },
  {
   "cell_type": "markdown",
   "metadata": {},
   "source": [
    "## Битва языков программирования:\n",
    "*  Сколько в среднем получает язык звёзд\n",
    "*  На каком языке нужно писать проект, чтобы за ним наблюдали?\n",
    "*  Проекты на каком языке в среднем больше удаляют?\n",
    "*  Какой язык является самым активным (по чилсу коммитов)\n",
    "\n",
    "\n",
    "вы можете использовать любую пару языков, которую хотите сравнить"
   ]
  },
  {
   "cell_type": "code",
   "execution_count": null,
   "metadata": {
    "collapsed": true
   },
   "outputs": [],
   "source": [
    "print(\"Среднее количество звезд для С++:\", #<твой код>)\n",
    "print(\"Среднее количество звезд для Python:\", #<твой код>)\n",
    "\n",
    "print(\"Вероятность, за проектом на C++ будут наблюдать\", #<твой код>)\n",
    "print(\"Вероятность, за проектом на Python будут наблюдать\", #<твой код>)\n",
    "\n",
    "print(\"Вероятность удаление проекта на C++:\", #<твой код>)\n",
    "print(\"Вероятность удаление проекта на Python:\", #<твой код>)\n",
    "\n",
    "print(\"Среднее количество комитов у C++:\", #<твой код>)\n",
    "print(\"Среднее количество комитов у Python:\", #<твой код>)"
   ]
  },
  {
   "cell_type": "markdown",
   "metadata": {},
   "source": [
    "## Бонус: насколько она быстрая, Гарри?\n",
    "Испытаем numpy на скорость\n",
    "* создадим 2 массива по 10^6 элементов\n",
    " * первый - числа от 0 до 1 000 000 не включая конец\n",
    " * второй - числа от 99 до 1 000 099 не включая конец\n",
    "* посчитаем:\n",
    " * поэллементную сумму\n",
    " * поэллементное произведение\n",
    " * корень квадратный эллементов первого массива\n",
    " * сумму всех элементов первого массива (одно число)\n",
    " \n",
    "* Сделаем это 3-мя способами\n",
    " * чистый python и списки\n",
    " * начинаем в python, преобразуем в numpy и \n",
    "\n"
   ]
  },
  {
   "cell_type": "code",
   "execution_count": null,
   "metadata": {
    "collapsed": false
   },
   "outputs": [],
   "source": [
    "%%time\n",
    "#эта штука считает время выполнения КЛЕТКИ (должна быть на первой строчке клетки)\n",
    "#время печатается в конце (точное время - total )\n",
    "\n",
    "\n",
    "#без numpy, чистый python\n",
    "arr_1 = range(1000000)\n",
    "arr_2 = range(99,1000099)\n",
    "\n",
    "\n",
    "a_sum = []\n",
    "a_prod = []\n",
    "sqrt_a1 = []\n",
    "for i in range(len(arr_1)):\n",
    "    a_sum.append(arr_1[i]+arr_2[i])\n",
    "    a_prod.append(arr_1[i]*arr_2[i])\n",
    "    a_sum.append(arr_1[i]**0.5)\n",
    "    \n",
    "#сумма всех элементов arr_1\n",
    "arr_1_sum = sum(arr_1)\n"
   ]
  },
  {
   "cell_type": "code",
   "execution_count": null,
   "metadata": {
    "collapsed": false
   },
   "outputs": [],
   "source": [
    "%%time\n",
    "\n",
    "#с numpy, преобразуя из list\n",
    "arr_1 = range(1000000)\n",
    "arr_2 = range(99,1000099)\n",
    "\n",
    "arr_1, arr_2 = numpy.array(arr_1) , numpy.array(arr_2)\n",
    "\n",
    "\n",
    "a_sum = arr_1 + arr_2\n",
    "a_prod = arr_1*arr_2\n",
    "sqrt_a1 = arr_1**.5\n"
   ]
  },
  {
   "cell_type": "code",
   "execution_count": null,
   "metadata": {
    "collapsed": false
   },
   "outputs": [],
   "source": [
    "%%time\n",
    "# чистый numpy\n",
    "arr_1 = numpy.arange(1000000)\n",
    "arr_2 = numpy.arange(99,1000099)\n",
    "\n",
    "a_sum = arr_1 + arr_2\n",
    "a_prod = arr_1*arr_2\n",
    "sqrt_a1 = arr_1**.5\n"
   ]
  },
  {
   "cell_type": "markdown",
   "metadata": {},
   "source": [
    "# Графики и matplotlib\n",
    "Как рисовать красивые картинки и издеваться над любителями MS Excel"
   ]
  },
  {
   "cell_type": "code",
   "execution_count": null,
   "metadata": {
    "collapsed": false
   },
   "outputs": [],
   "source": [
    "#загрузим библиотеку\n",
    "import matplotlib.pyplot as plt #загрузить библиотеку matplotlib.pyplot под именем plt\n",
    "%matplotlib inline\n",
    "\n",
    "#линии\n",
    "plt.plot([0,1,2,3,4,5],[0,1,4,9,16,25])"
   ]
  },
  {
   "cell_type": "code",
   "execution_count": null,
   "metadata": {
    "collapsed": true
   },
   "outputs": [],
   "source": [
    "#точки\n",
    "plt.scatter([0,1,2,3,4,5],[0,1,4,9,16,25])\n",
    "\n",
    "plt.show()#после этой функции всё уже построенное отрисуется и начнётся новый график\n",
    "\n",
    "#если не писать plt.show() между графиками, они накладываются\n",
    "plt.scatter([1,1,2,3],[3,2,2,1],c = [\"red\",\"blue\",\"blue\",\"green\"],marker = \"x\")\n",
    "plt.scatter([0,1,2,3,4,5],[0,1,4,9,16,25],c = \"black\")"
   ]
  },
  {
   "cell_type": "code",
   "execution_count": null,
   "metadata": {
    "collapsed": false
   },
   "outputs": [],
   "source": [
    "#гистограмма\n",
    "plt.hist([0,1,1,1,2,2,3,3,3,3,3,4,4,5,5,5,6,7,7,8,9,10])\n",
    "plt.show()\n",
    "\n",
    "\n",
    "plt.hist([0,1,1,1,2,2,3,3,3,3,3,4,4,5,5,5,6,7,7,8,9,10],bins = 5)"
   ]
  },
  {
   "cell_type": "code",
   "execution_count": null,
   "metadata": {
    "collapsed": true
   },
   "outputs": [],
   "source": [
    "#Построй гистограмму звёзд, гистограмму коммитов.\n",
    "\n",
    "#<ваш код>\n",
    "\n",
    "#Бонус - узнай, как строить 2D-гистограму возрастов И цен. "
   ]
  },
  {
   "cell_type": "code",
   "execution_count": null,
   "metadata": {
    "collapsed": true
   },
   "outputs": [],
   "source": [
    "# (задание на погуглить)\n",
    "# гистограмммы получились очень похожи, а что если логарифмировать их? "
   ]
  },
  {
   "cell_type": "code",
   "execution_count": null,
   "metadata": {
    "collapsed": true
   },
   "outputs": [],
   "source": [
    "# (Хотите увидеть разноцветного Ёжика?)\n",
    "\n",
    "#Постройте график из точек x=количество звёзд, y=количество коммитов\n",
    "#цвет - удалён ли проект\n",
    "\n",
    "#<ваш код>"
   ]
  },
  {
   "cell_type": "markdown",
   "metadata": {},
   "source": [
    "# Битва с финальным боссом\n",
    "\n",
    "При помощи интуиции, граффиков и вычислений попробуй выделить по признакам группу проектов, которая получила больше всего звёзд.\n",
    "\n",
    "Признаки - выражения вида:\n",
    "* [колонка] равно [значение] (удалён = да)\n",
    "* [математическое выражение] >, <, >= или <=  [значение]  (количество коммитов > 200) (количество коммитов - количество пользователей больше 5)\n",
    "* [колонка с именем] - [утверждение про имя]  (имя содержит \"dot\" и длинее 5 букв)\n",
    "\n",
    "Признаки могут использоваться через И и ИЛИ.\n",
    "\n",
    "(и только их. НЕ, импликация, XOR, эквивалентность, штрих Шифера и стрелка Пирса идут лесом)\n",
    "\n",
    "Например, все [не удалённые] И [написанные C] И ([коммитов не 0] ИЛИ [pull реквестов > 5]) - это 4 признака\n",
    "\n",
    "При этом:\n",
    "* Чем больше получивших звёзды, тем лучше;\n",
    "* Среднее количество звёзд должно превышать 5000;\n",
    "* Желательно использовать не более 5 признаков;\n",
    " * Если нашёл более 1 такой группы - перечисли несколько;\n",
    "* Гипотеза должна подтверждаться запускабельным кодом, \n",
    " * который считает число проектов и шанс получить звёзды;\n",
    " * высший пилотаж - заправить это красивыми граффиками по теме;\n",
    "\n",
    "Напутствие - возможно, будет полезно сначала изучить данные, посмотреть на графики и обусдить идеи, а потом бросаться лихорадочно пробовать всё подряд."
   ]
  },
  {
   "cell_type": "code",
   "execution_count": null,
   "metadata": {
    "collapsed": true
   },
   "outputs": [],
   "source": [
    "#предварительные вычисления графики\n"
   ]
  },
  {
   "cell_type": "code",
   "execution_count": 37,
   "metadata": {
    "collapsed": false
   },
   "outputs": [],
   "source": [
    "from collections import Counter"
   ]
  },
  {
   "cell_type": "code",
   "execution_count": 70,
   "metadata": {
    "collapsed": false
   },
   "outputs": [],
   "source": [
    "#пример для [не удалённые] И [написанные C] И ([коммитов не 0] ИЛИ [pull реквестов > 5])\n",
    "\n",
    "\n",
    "# не удалённые и на сях\n",
    "c_and_pull_requests = numpy.logical_and(data.deleted == 0, data.main_language == \"C\")\n",
    "\n",
    "#коммитов не  0 или pull реквестов больще 5\n",
    "commits_and_members = numpy.logical_or(data.commits != 0, data.pull_request > 5)\n",
    "\n",
    "#всё вместе\n",
    "group_indexer = numpy.logical_and(c_and_pull_requests, commits_and_members)\n",
    "\n",
    "#группа. Замените этот код на свою группу.\n",
    "group = data[group_indexer]"
   ]
  },
  {
   "cell_type": "code",
   "execution_count": 71,
   "metadata": {
    "collapsed": false
   },
   "outputs": [
    {
     "name": "stdout",
     "output_type": "stream",
     "text": [
      "Количество проектов: 167\n",
      "Среднее количество звёзд: 2218.9041916167666\n",
      "Достаточное количество: False\n"
     ]
    }
   ],
   "source": [
    "print(\"Количество проектов:\",len(group))\n",
    "print(\"Среднее количество звёзд:\", group.stars.mean())\n",
    "print(\"Достаточное количество:\", group.stars.mean() > 5000)"
   ]
  },
  {
   "cell_type": "code",
   "execution_count": null,
   "metadata": {
    "collapsed": true
   },
   "outputs": [],
   "source": [
    "# Если ещё не устал - аналогично выдели группы проектов, которые были не оценены"
   ]
  },
  {
   "cell_type": "markdown",
   "metadata": {},
   "source": [
    "[руководства по библиотекам]\n",
    "\n",
    "  * [NumPy](http://www.numpy.org/)\n",
    "    - [руководство для пользователей Matlab](http://wiki.scipy.org/NumPy_for_Matlab_Users)\n",
    "  * [Pandas](http://pandas.pydata.org/)\n",
    "    - [пример работы с данными при помощи pandas](http://nbviewer.ipython.org/github/agconti/kaggle-titanic/blob/master/Titanic.ipynb)\n",
    "  * [Matplotlib](http://matplotlib.org/index.html)\n",
    "    - [pyplot](http://matplotlib.org/api/pyplot_api.html) — эмуляция функционала графопостроений в Matlab\n",
    "    - [галерея примеров](http://matplotlib.org/gallery.html)\n",
    "  * [SciPy](http://scipy.org/)"
   ]
  }
 ],
 "metadata": {
  "anaconda-cloud": {},
  "kernelspec": {
   "display_name": "Python [Root]",
   "language": "python",
   "name": "Python [Root]"
  },
  "language_info": {
   "codemirror_mode": {
    "name": "ipython",
    "version": 3
   },
   "file_extension": ".py",
   "mimetype": "text/x-python",
   "name": "python",
   "nbconvert_exporter": "python",
   "pygments_lexer": "ipython3",
   "version": "3.5.2"
  }
 },
 "nbformat": 4,
 "nbformat_minor": 1
}
