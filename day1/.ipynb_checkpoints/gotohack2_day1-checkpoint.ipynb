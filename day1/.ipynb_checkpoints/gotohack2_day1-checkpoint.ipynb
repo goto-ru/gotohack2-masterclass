{
 "cells": [
  {
   "cell_type": "markdown",
   "metadata": {},
   "source": [
    "# Как сделать самый крутой проект на GitHub\n",
    "\n",
    "---\n",
    "\n",
    "Эта тетрадка научит тебя использовать pandas, numpy, строить графики в matplotlib и тому, как сделать самый крутой проект на GitHub.\n",
    "\n",
    "Начнём!\n",
    "\n",
    "\n",
    "* Клетки можно просто выполнять (выделить и ctrl+enter или shift+enter - чтобы сразу выделить следующую)\n",
    "* По надобности их можно создавать (\"плюсик\" в панели наверху)\n",
    "* В некоторых клетках нужно дописать код, что именно - пишется в комментариях рядом"
   ]
  },
  {
   "cell_type": "code",
   "execution_count": null,
   "metadata": {
    "collapsed": true
   },
   "outputs": [],
   "source": [
    "#подключим модуль Pandas. Он нужен, чтобы работать с данными\n",
    "import pandas\n",
    "\n",
    "#считаем данные\n",
    "data = pandas.DataFrame.from_csv(\"git.csv\")"
   ]
  },
  {
   "cell_type": "code",
   "execution_count": null,
   "metadata": {
    "collapsed": false
   },
   "outputs": [],
   "source": [
    "#Данные - таблица, двумерный массив\n",
    "data[:5]\n",
    "\n",
    "# Так же можно использовать\n",
    "data.head()"
   ]
  },
  {
   "cell_type": "markdown",
   "metadata": {},
   "source": [
    "## Расшифровка колонок\n",
    "* name - название проекта\n",
    "* main_language - язык на котором написан проект\n",
    "* reated_at - когда был создан проект (буква 'c' потерялась)\n",
    "* forked_from - откуда был склонирован проект\n",
    "* deleted - удалён ли проект\n",
    "* watchers - количество наблюдающих за проектом\n",
    "* milestones - количество групп issues [кляк](https://guides.github.com/features/issues/)\n",
    "* num_labels - количество меток в issues\n",
    "* pull_request - количество pull реквестов\n",
    "* commits - количество коммитов\n",
    "* members - количество людей в проекте\n",
    "* stars - количество звезд за проект\n",
    "\n",
    "\n",
    "В некоторых колонках встречается NaN - значит, что у данного репозитория данная колонка неизвестна (квест - найти их глазами в данных выше)"
   ]
  },
  {
   "cell_type": "code",
   "execution_count": null,
   "metadata": {
    "collapsed": false
   },
   "outputs": [],
   "source": [
    "#размеры таблицы\n",
    "print(\"len(data) = \", len(data))\n",
    "print(\"data.shape = \",data.shape)"
   ]
  },
  {
   "cell_type": "code",
   "execution_count": null,
   "metadata": {
    "collapsed": false
   },
   "outputs": [],
   "source": [
    "#вот так можно получить четвёртую строку таблицы, считая с нуля\n",
    "print(data.iloc[4])"
   ]
  },
  {
   "cell_type": "code",
   "execution_count": null,
   "metadata": {
    "collapsed": false
   },
   "outputs": [],
   "source": [
    "#первые 5 строк\n",
    "print(data[0:5])"
   ]
  },
  {
   "cell_type": "code",
   "execution_count": null,
   "metadata": {
    "collapsed": false
   },
   "outputs": [],
   "source": [
    "#так можно получить первый столбец (считая с нуля)\n",
    "#print(data.icol(1))\n",
    "#но проще - вот так:\n",
    "print(data[\"name\"])\n",
    "#или даже так: data.name"
   ]
  },
  {
   "cell_type": "code",
   "execution_count": null,
   "metadata": {
    "collapsed": false
   },
   "outputs": [],
   "source": [
    "#несколько колонок, несколько строк\n",
    "data[[\"name\",\"stars\"]][5:10]"
   ]
  },
  {
   "cell_type": "markdown",
   "metadata": {},
   "source": [
    "## Теперь сам\n",
    "* выведи данные о 1, 13, 666 и последнем проекте. Какой из них заработал больше всего звёзд?\n",
    "\n",
    "\n",
    "* выведи данные о столбике \"stars\" - колическо звёзд у репозитория.\n",
    "* напиши программу, которая считает, сколько всего проектов, которые не оценены и оценены выше 100 звёзд"
   ]
  },
  {
   "cell_type": "code",
   "execution_count": null,
   "metadata": {
    "collapsed": true
   },
   "outputs": [],
   "source": [
    "#<1,13, 666 и последний из проектов>"
   ]
  },
  {
   "cell_type": "code",
   "execution_count": null,
   "metadata": {
    "collapsed": true
   },
   "outputs": [],
   "source": [
    "#stars"
   ]
  },
  {
   "cell_type": "code",
   "execution_count": null,
   "metadata": {
    "collapsed": true
   },
   "outputs": [],
   "source": [
    "#программа"
   ]
  },
  {
   "cell_type": "markdown",
   "metadata": {},
   "source": [
    "# Numpy и векторные операции"
   ]
  },
  {
   "cell_type": "code",
   "execution_count": null,
   "metadata": {
    "collapsed": false
   },
   "outputs": [],
   "source": [
    "#загружаем numpy. Это быстрая библиотека для математики\n",
    "import numpy\n",
    "\n",
    "#основная структура данных - массив\n",
    "a = numpy.array([1,2,3,4,5])\n",
    "b = numpy.array([5,4,3,2,1])\n",
    "print(\"a = \",a)\n",
    "print(\"b = \",b)\n",
    "\n",
    "#математические и логические операции считаются для каждого элемента массива\n",
    "print(\"a+1 =\", a+1)\n",
    "print(\"a*2 =\", a*2)\n",
    "print(\"a==2\", a==2)\n",
    "#если в операции участвуют 2 массива, операции считаются для соответствующих пар\n",
    "print(\"a+b =\",a+b)\n",
    "print(\"a*b =\",a*b)"
   ]
  },
  {
   "cell_type": "code",
   "execution_count": null,
   "metadata": {
    "collapsed": true
   },
   "outputs": [],
   "source": [
    "#а теперь сам\n",
    "print(\"Разность между a и b:\", #<твой код> )\n",
    "print(\"Квадраты элементов b:\", #<твой код> )\n",
    "print(\"Половины элементов массива a:\", #<твой код> )\n",
    "print(\"Половины произведений элементов массивов a и b:\", #<твой код> )\n",
    "print(\"Частное разности элементов a и единицы с квадратами b:\", #<твой код> )"
   ]
  },
  {
   "cell_type": "code",
   "execution_count": null,
   "metadata": {
    "collapsed": false
   },
   "outputs": [],
   "source": [
    "#а ещё в numpy есть много функций\n",
    "\n",
    "print(\"numpy.sum(a) = \",numpy.sum(a))\n",
    "print(\"numpy.min(a) = \", numpy.min(a))\n",
    "print(\"numpy.argmin(b) = \", numpy.argmin(b)) #индекс минимального элемента\n",
    "print(\"numpy.max(a) = \", numpy.max(a))\n",
    "print(\"numpy.argmax(b) = \", numpy.argmax(b)) #индекс максимального\n",
    "print(\"numpy.average(a) = \", numpy.average(a))\n",
    "print(\"numpy.unique(['male','male','female','female','male']) = \",numpy.unique(['male','male','female','female','male']))\n",
    "#и ещё много  всего ...\n"
   ]
  },
  {
   "cell_type": "code",
   "execution_count": null,
   "metadata": {
    "collapsed": false
   },
   "outputs": [],
   "source": [
    "#[это важно для задания] \n",
    "#А вот так можно выделять данные, в которых определённая колонка - не NaN\n",
    "\n",
    "#массив bool - является ли у данного проекта значение в колонки forked_at NaN\n",
    "forked_is_nan = numpy.isnan(data.forked_from) \n",
    "\n",
    "# все проекты, у которых значение в колонки forked_at - не NaN (отдельная таблица)\n",
    "answer = data[numpy.logical_not(forked_is_nan)] \n",
    "\n",
    "print(len(data) - len(answer), \"количество склонированных проектов\")\n",
    "print(len(answer), \"не слонированные проекты\")"
   ]
  },
  {
   "cell_type": "code",
   "execution_count": null,
   "metadata": {
    "collapsed": false
   },
   "outputs": [],
   "source": [
    "# мини-квест:\n",
    "# реши свою предыдущую задачу в 1-2 строчки с использованием numpy\n",
    "#подсказка: если массив состоит из 0 и 1, то \n",
    "#сумма = количестно единичек \n",
    "#среднее значение = вероятность единички\n",
    "print() #<твой код>\n",
    "\n",
    "#найди проект с (минимальным/максимальным) количеством участников. Сколько у него звёзд? Склонирован ли он?\n",
    "print() #<твой код>\n",
    "\n",
    "#Сколько комитов (commits) было у самого лучшего проекта? Какое его название?\n",
    "print() #<твой код>"
   ]
  },
  {
   "cell_type": "code",
   "execution_count": null,
   "metadata": {
    "collapsed": false
   },
   "outputs": [],
   "source": [
    "print(\"логические операции\")\n",
    "\n",
    "print(\"a>2\",a>2)\n",
    "print(\"numpy.logical_not(a>2) = \",numpy.logical_not(a>2))\n",
    "print(\"numpy.logical_and(a>2,b>2) = \", numpy.logical_and(a>2,b>2))\n",
    "print(\"numpy.logical_or(a>4,b<3) = \", numpy.logical_or(a>2,b<3))\n",
    "\n",
    "print(\"\\nили проще\")\n",
    "print(\"~(a>2) = \",~(a>2))  #как logical_not\n",
    "print(\"(a>2)&(b>2) = \", (a>2)&(b>2)) #как logical_and\n",
    "print(\"(a>2)|(b<3) = \", (a>2)|(b<3)) #как logical_or\n",
    "\n",
    "\n",
    "print(\"\\n\\nИндексация\")\n",
    "\n",
    "#индексация - выбираем эллементы из массима\n",
    "print(\"a> 3 =\",a>3)\n",
    "print(\"a[a>3] =\", a[a>3])\n",
    "print(\"numpy.where(a>3) =\",numpy.where(a>3)) #где в массиве лежат True (кортеж, в котором лежит массив)\n",
    "print(\"a[numpy.where(a>3)] =\",a[numpy.where(a>3)])"
   ]
  },
  {
   "cell_type": "markdown",
   "metadata": {},
   "source": [
    "# А теперь сам!"
   ]
  },
  {
   "cell_type": "markdown",
   "metadata": {},
   "source": [
    "Квесты\n",
    "* 1) Сколько уникальных названий проекта?\n",
    "* 2) Сколько в среднем звезд получает язык?\n",
    "* 3) В каком языке больше всего pull реквестов? \n",
    "* 4) Все ли репозитории с наблюдателями (watchers) делают pull реквесты?\n",
    "* 5) Есть ли проекты, которые имеют одно название, но разные языки? Сколько их?\n",
    "\n",
    "Бонусные сайд-квесты\n",
    "* 1) Какие бывают языки проектов? (\"Embarked\")\n",
    "* 2) На каком языке больше всего звёзд?\n",
    "* 3) На каком языке больше всего удалённых проектов?\n",
    "* 4) В каком проекте меньше всего watchers, но больше всего звёзд?\n",
    "* 5) Есть ли проекты, которые называются одинаково? В чём разница между ними?"
   ]
  },
  {
   "cell_type": "code",
   "execution_count": null,
   "metadata": {
    "collapsed": true
   },
   "outputs": [],
   "source": [
    "#твой код\n",
    "\n",
    "#здесь\n",
    "\n",
    "#/твой код"
   ]
  },
  {
   "cell_type": "code",
   "execution_count": null,
   "metadata": {
    "collapsed": true
   },
   "outputs": [],
   "source": [
    "#Выдели в отдельные наборы С++ и Python\n",
    "# за пол отвечает колонка \"Sex\", (\"male\",\"female\")\n",
    "\n",
    "c = #<твой код>\n",
    "python = #<твой код>\n",
    "\n",
    "#Кто с большей вероятностью получит звёзду: проект на c++ или на python?\n",
    "print(\"P(звезда|c++) = \", #<твой код>)\n",
    "print(\"P(звезда|python) = \", #<твой код>)"
   ]
  },
  {
   "cell_type": "markdown",
   "metadata": {},
   "source": [
    "## Битва языков программирования:\n",
    "*  Сколько в среднем получает язык звёзд\n",
    "*  На каком языке нужно писать проект, чтобы за ним наблюдали?\n",
    "*  Проекты на каком языке в среднем больше удаляют?\n",
    "*  Какой язык является самым активным (по чилсу коммитов, pull реквестов)\n",
    "\n",
    "\n",
    "вы можете использовать любую пару языков, которую хотите сравнить"
   ]
  },
  {
   "cell_type": "code",
   "execution_count": null,
   "metadata": {
    "collapsed": true
   },
   "outputs": [],
   "source": [
    "print(\"Среднее количество звезд для С++:\", #<твой код>)\n",
    "print(\"Среднее количество звезд для Python:\", #<твой код>)\n",
    "\n",
    "print(\"Вероятность, за проектом на C++ будут наблюдать\", #<твой код>)\n",
    "print(\"Вероятность, за проектом на Python будут наблюдать\", #<твой код>)\n",
    "\n",
    "print(\"Вероятность удаление проекта на C++:\", #<твой код>)\n",
    "print(\"Вероятность удаление проекта на Python:\", #<твой код>)\n",
    "\n",
    "print(\"Среднее количество комитов у C++:\", #<твой код>)\n",
    "print(\"Среднее количество комитов у Python:\", #<твой код>)"
   ]
  },
  {
   "cell_type": "markdown",
   "metadata": {},
   "source": [
    "## Бонус: насколько она быстрая, Гарри?\n",
    "Испытаем numpy на скорость\n",
    "* создадим 2 массива по 10^6 элементов\n",
    " * первый - числа от 0 до 1 000 000 не включая конец\n",
    " * второй - числа от 99 до 1 000 099 не включая конец\n",
    "* посчитаем:\n",
    " * поэллементную сумму\n",
    " * поэллементное произведение\n",
    " * корень квадратный эллементов первого массива\n",
    " * сумму всех элементов первого массива (одно число)\n",
    " \n",
    "* Сделаем это 3-мя способами\n",
    " * чистый python и списки\n",
    " * начинаем в python, преобразуем в numpy и \n",
    "\n"
   ]
  },
  {
   "cell_type": "code",
   "execution_count": null,
   "metadata": {
    "collapsed": false
   },
   "outputs": [],
   "source": [
    "%%time\n",
    "#эта штука считает время выполнения КЛЕТКИ (должна быть на первой строчке клетки)\n",
    "#время печатается в конце (точное время - total )\n",
    "\n",
    "\n",
    "#без numpy, чистый python\n",
    "arr_1 = range(1000000)\n",
    "arr_2 = range(99,1000099)\n",
    "\n",
    "\n",
    "a_sum = []\n",
    "a_prod = []\n",
    "sqrt_a1 = []\n",
    "for i in range(len(arr_1)):\n",
    "    a_sum.append(arr_1[i]+arr_2[i])\n",
    "    a_prod.append(arr_1[i]*arr_2[i])\n",
    "    a_sum.append(arr_1[i]**0.5)\n",
    "    \n",
    "#сумма всех элементов arr_1\n",
    "arr_1_sum = sum(arr_1)\n"
   ]
  },
  {
   "cell_type": "code",
   "execution_count": null,
   "metadata": {
    "collapsed": false
   },
   "outputs": [],
   "source": [
    "%%time\n",
    "\n",
    "#с numpy, преобразуя из list\n",
    "arr_1 = range(1000000)\n",
    "arr_2 = range(99,1000099)\n",
    "\n",
    "arr_1, arr_2 = numpy.array(arr_1) , numpy.array(arr_2)\n",
    "\n",
    "\n",
    "a_sum = arr_1 + arr_2\n",
    "a_prod = arr_1*arr_2\n",
    "sqrt_a1 = arr_1**.5\n"
   ]
  },
  {
   "cell_type": "code",
   "execution_count": null,
   "metadata": {
    "collapsed": false
   },
   "outputs": [],
   "source": [
    "%%time\n",
    "# чистый numpy\n",
    "arr_1 = numpy.arange(1000000)\n",
    "arr_2 = numpy.arange(99,1000099)\n",
    "\n",
    "a_sum = arr_1 + arr_2\n",
    "a_prod = arr_1*arr_2\n",
    "sqrt_a1 = arr_1**.5\n"
   ]
  },
  {
   "cell_type": "markdown",
   "metadata": {},
   "source": [
    "# Графики и matplotlib\n",
    "Как рисовать красивые картинки и издеваться над любителями MS Excel"
   ]
  },
  {
   "cell_type": "code",
   "execution_count": null,
   "metadata": {
    "collapsed": false
   },
   "outputs": [],
   "source": [
    "#загрузим библиотеку\n",
    "import matplotlib.pyplot as plt #загрузить библиотеку matplotlib.pyplot под именем plt\n",
    "%matplotlib inline\n",
    "\n",
    "#линии\n",
    "plt.plot([0,1,2,3,4,5],[0,1,4,9,16,25])"
   ]
  },
  {
   "cell_type": "code",
   "execution_count": null,
   "metadata": {
    "collapsed": true
   },
   "outputs": [],
   "source": [
    "#точки\n",
    "plt.scatter([0,1,2,3,4,5],[0,1,4,9,16,25])\n",
    "\n",
    "plt.show()#после этой функции всё уже построенное отрисуется и начнётся новый график\n",
    "\n",
    "#если не писать plt.show() между графиками, они накладываются\n",
    "plt.scatter([1,1,2,3],[3,2,2,1],c = [\"red\",\"blue\",\"blue\",\"green\"],marker = \"x\")\n",
    "plt.scatter([0,1,2,3,4,5],[0,1,4,9,16,25],c = \"black\")"
   ]
  },
  {
   "cell_type": "code",
   "execution_count": null,
   "metadata": {
    "collapsed": false
   },
   "outputs": [],
   "source": [
    "#гистограмма\n",
    "plt.hist([0,1,1,1,2,2,3,3,3,3,3,4,4,5,5,5,6,7,7,8,9,10])\n",
    "plt.show()\n",
    "\n",
    "\n",
    "plt.hist([0,1,1,1,2,2,3,3,3,3,3,4,4,5,5,5,6,7,7,8,9,10],bins = 5)"
   ]
  },
  {
   "cell_type": "code",
   "execution_count": null,
   "metadata": {
    "collapsed": true
   },
   "outputs": [],
   "source": [
    "#Построй гистограмму звёзд, гистограмму коммитов.\n",
    "\n",
    "#<ваш код>\n",
    "\n",
    "#Бонус - узнай, как строить 2D-гистограму возрастов И цен. "
   ]
  },
  {
   "cell_type": "code",
   "execution_count": null,
   "metadata": {
    "collapsed": true
   },
   "outputs": [],
   "source": [
    "# (задание на погуглить)\n",
    "# гистограмммы получились очень похожи, а что если логарифмировать их? "
   ]
  },
  {
   "cell_type": "code",
   "execution_count": null,
   "metadata": {
    "collapsed": true
   },
   "outputs": [],
   "source": [
    "# (Хотите увидеть разноцветного Ёжика?)\n",
    "\n",
    "#Постройте график из точек x=количество пользователей проекта, y=количество коммитов\n",
    "#цвет - удалён ли проект\n",
    "\n",
    "#<ваш код>"
   ]
  },
  {
   "cell_type": "markdown",
   "metadata": {},
   "source": [
    "# Битва с финальным боссом\n",
    "\n",
    "При помощи интуиции, граффиков и вычислений попробуй выделить по признакам группу проектов, которая получила больше всего звёзд.\n",
    "\n",
    "Признаки - выражения вида:\n",
    "* [колонка] равно [значение] (удалён = да)\n",
    "* [математическое выражение] >, <, >= или <=  [значение]  (количество коммитов > 200) (количество коммитов - количество пользователей больше 5)\n",
    "* [колонка с именем] - [утверждение про имя]  (имя содержит \"dot\" и длинее 5 букв)\n",
    "\n",
    "Признаки могут использоваться через И и ИЛИ.\n",
    "\n",
    "(и только их. НЕ, импликация, XOR, эквивалентность, штрих Шифера и стрелка Пирса идут лесом)\n",
    "\n",
    "Например, все [не удалённые] И [написанные C] И [pull реквестов > 5] И ([коммитов не 0] ИЛИ [количество пользователей больще 100]) - это 5 признаков\n",
    "\n",
    "При этом:\n",
    "* Чем больше получивших звёзды(количество, а не доля), тем лучше;\n",
    "* В группе вероятность того, что ты получишь звезду должна быть больше 80%, размер группы должен привышать 10\n",
    "* Желательно использовать не более 5 признаков;\n",
    " * Если нашёл более 1 такой группы - перечисли несколько;\n",
    "* Гипотеза должна подтверждаться запускабельным кодом, \n",
    " * который считает число проектов и шанс получить звёзды;\n",
    " * высший пилотаж - заправить это красивыми граффиками по теме;\n",
    "\n",
    "Напутствие - возможно, будет полезно сначала изучить данные, посмотреть на графики и обусдить идеи, а потом бросаться лихорадочно пробовать всё подряд."
   ]
  },
  {
   "cell_type": "code",
   "execution_count": null,
   "metadata": {
    "collapsed": true
   },
   "outputs": [],
   "source": [
    "#предварительные вычисления графики\n"
   ]
  },
  {
   "cell_type": "code",
   "execution_count": null,
   "metadata": {
    "collapsed": false
   },
   "outputs": [],
   "source": [
    "#пример для [не удалённые] И [pull реквестов > 5] И [написанные C] И ([коммитов не 0] ИЛИ [количество пользователей больше 5])\n",
    "\n",
    "# не удалённые\n",
    "not_deleted_data = data[data.deleted == 0]\n",
    "\n",
    "# pull реквестов > 5 и на сях\n",
    "c_and_pull_requests = numpy.logical_and(not_deleted_data.pull_request > 5, not_deleted_data.main_language == \"C\")\n",
    "\n",
    "#коммитов не  0 или в первом классе\n",
    "commits_and_members = numpy.logical_or(not_deleted_data.commits != 0, not_deleted_data.members > 5)\n",
    "\n",
    "#всё вместе\n",
    "group_indexer = numpy.logical_and(c_and_pull_requests, commits_and_members)\n",
    "\n",
    "#группа. Замените этот код на свою группу.\n",
    "group = not_deleted_data[group_indexer]"
   ]
  },
  {
   "cell_type": "code",
   "execution_count": null,
   "metadata": {
    "collapsed": false
   },
   "outputs": [],
   "source": [
    "print(\"Количество проектов:\",len(group))\n",
    "print(\"Количество проектов со звёздами:\", len(group[group.stars > 0]))\n",
    "p_get_star = numpy.average([1 if i > 0 else 0 for i in group.stars])\n",
    "print(\"Вероятность получить звезду:\", p_get_star)\n",
    "print(\"Достаточная вероятность:\", p_get_star > 0.8)"
   ]
  },
  {
   "cell_type": "code",
   "execution_count": null,
   "metadata": {
    "collapsed": true
   },
   "outputs": [],
   "source": [
    "# Если ещё не устал - аналогично выдели группы проектов, которые были не оценены"
   ]
  },
  {
   "cell_type": "markdown",
   "metadata": {},
   "source": [
    "[руководства по библиотекам]\n",
    "\n",
    "  * [NumPy](http://www.numpy.org/)\n",
    "    - [руководство для пользователей Matlab](http://wiki.scipy.org/NumPy_for_Matlab_Users)\n",
    "  * [Pandas](http://pandas.pydata.org/)\n",
    "    - [пример работы с данными при помощи pandas](http://nbviewer.ipython.org/github/agconti/kaggle-titanic/blob/master/Titanic.ipynb)\n",
    "  * [Matplotlib](http://matplotlib.org/index.html)\n",
    "    - [pyplot](http://matplotlib.org/api/pyplot_api.html) — эмуляция функционала графопостроений в Matlab\n",
    "    - [галерея примеров](http://matplotlib.org/gallery.html)\n",
    "  * [SciPy](http://scipy.org/)"
   ]
  }
 ],
 "metadata": {
  "anaconda-cloud": {},
  "kernelspec": {
   "display_name": "Python [Root]",
   "language": "python",
   "name": "Python [Root]"
  },
  "language_info": {
   "codemirror_mode": {
    "name": "ipython",
    "version": 3
   },
   "file_extension": ".py",
   "mimetype": "text/x-python",
   "name": "python",
   "nbconvert_exporter": "python",
   "pygments_lexer": "ipython3",
   "version": "3.5.2"
  }
 },
 "nbformat": 4,
 "nbformat_minor": 1
}
